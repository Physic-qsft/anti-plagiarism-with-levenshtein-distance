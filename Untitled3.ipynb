{
  "nbformat": 4,
  "nbformat_minor": 0,
  "metadata": {
    "colab": {
      "provenance": [],
      "authorship_tag": "ABX9TyO14BPY2hMAl2T7I+Sefoqx",
      "include_colab_link": true
    },
    "kernelspec": {
      "name": "python3",
      "display_name": "Python 3"
    },
    "language_info": {
      "name": "python"
    }
  },
  "cells": [
    {
      "cell_type": "markdown",
      "metadata": {
        "id": "view-in-github",
        "colab_type": "text"
      },
      "source": [
        "<a href=\"https://colab.research.google.com/github/Physic-qsft/anti-plagiarism-with-levenshtein-distance/blob/main/Untitled3.ipynb\" target=\"_parent\"><img src=\"https://colab.research.google.com/assets/colab-badge.svg\" alt=\"Open In Colab\"/></a>"
      ]
    },
    {
      "cell_type": "code",
      "execution_count": 5,
      "metadata": {
        "colab": {
          "base_uri": "https://localhost:8080/",
          "height": 241
        },
        "id": "y08ALVGYLPeB",
        "outputId": "6fa74021-fdc6-4e4d-c150-507779ef417d"
      },
      "outputs": [
        {
          "output_type": "error",
          "ename": "FileNotFoundError",
          "evalue": "ignored",
          "traceback": [
            "\u001b[0;31m---------------------------------------------------------------------------\u001b[0m",
            "\u001b[0;31mFileNotFoundError\u001b[0m                         Traceback (most recent call last)",
            "\u001b[0;32m<ipython-input-5-bba25f9a9d99>\u001b[0m in \u001b[0;36m<module>\u001b[0;34m\u001b[0m\n\u001b[1;32m      2\u001b[0m \u001b[0;32mimport\u001b[0m \u001b[0mre\u001b[0m\u001b[0;34m\u001b[0m\u001b[0;34m\u001b[0m\u001b[0m\n\u001b[1;32m      3\u001b[0m \u001b[0;34m\u001b[0m\u001b[0m\n\u001b[0;32m----> 4\u001b[0;31m \u001b[0mf\u001b[0m \u001b[0;34m=\u001b[0m \u001b[0mopen\u001b[0m\u001b[0;34m(\u001b[0m\u001b[0;34m'input.txt'\u001b[0m\u001b[0;34m)\u001b[0m\u001b[0;34m\u001b[0m\u001b[0;34m\u001b[0m\u001b[0m\n\u001b[0m\u001b[1;32m      5\u001b[0m \u001b[0mname1\u001b[0m \u001b[0;34m=\u001b[0m \u001b[0mf\u001b[0m\u001b[0;34m.\u001b[0m\u001b[0mreadline\u001b[0m\u001b[0;34m(\u001b[0m\u001b[0;34m)\u001b[0m\u001b[0;34m\u001b[0m\u001b[0;34m\u001b[0m\u001b[0m\n\u001b[1;32m      6\u001b[0m \u001b[0mname2\u001b[0m \u001b[0;34m=\u001b[0m \u001b[0mf\u001b[0m\u001b[0;34m.\u001b[0m\u001b[0mreadline\u001b[0m\u001b[0;34m(\u001b[0m\u001b[0;36m2\u001b[0m\u001b[0;34m)\u001b[0m\u001b[0;34m\u001b[0m\u001b[0;34m\u001b[0m\u001b[0m\n",
            "\u001b[0;31mFileNotFoundError\u001b[0m: [Errno 2] No such file or directory: 'input.txt'"
          ]
        }
      ],
      "source": [
        "import ast\n",
        "import re\n",
        "\n",
        "f = open('input.txt')\n",
        "name1 = f.readline()\n",
        "name2 = f.readline(2)\n",
        "name3 = f.readline(3)\n",
        "\n",
        "f1 = open(name1)\n",
        "f2 = open(name2)\n",
        "f3 = open(name3)\n",
        "\n",
        "def cleaner(filename):\n",
        "  with open (filename) as f:\n",
        "    old_data = f.read()\n",
        "    a = []\n",
        "    for i in range(int(input()[1:])):\n",
        "      b = input()\n",
        "      if '#' in b.split():\n",
        "        s = b.index('#')   #убираем комментарии\n",
        "        b = ''.join(b[:s])\n",
        "      a.append(b)\n",
        "  for i in range(len(a)):\n",
        "    new_data = a[i]\n",
        "  with open (filename, 'w') as f:\n",
        "    f.write(new_data)\n",
        "  with open (filename) as f:\n",
        "    old_data = f.read()\n",
        "    a = []\n",
        "    for i in range(int(input()[1:])):\n",
        "      b = input()\n",
        "      if '#' in b.split():\n",
        "        s = b.index('  ')    #убираем пустые места\n",
        "        b = ''.join(b[:s])\n",
        "      a.append(b)\n",
        "  for i in range(len(a)):\n",
        "    new_data = a[i]\n",
        "  with open (filename, 'w') as f:\n",
        "    f.write(new_data)\n",
        "\n",
        "#теперь в первой версии рассмотрим код как единую строку\n",
        "def levenstein(str_1, str_2):\n",
        "    n, m = len(str_1), len(str_2)\n",
        "    if n > m:\n",
        "        str_1, str_2 = str_2, str_1\n",
        "        n, m = m, n\n",
        "\n",
        "    current_row = range(n + 1)\n",
        "    for i in range(1, m + 1):\n",
        "        previous_row, current_row = current_row, [i] + [0] * n\n",
        "        for j in range(1, n + 1):\n",
        "            add, delete, change = previous_row[j] + 1, current_row[j - 1] + 1, previous_row[j - 1]\n",
        "            if str_1[j - 1] != str_2[i - 1]:\n",
        "                change += 1\n",
        "            current_row[j] = min(add, delete, change)\n",
        "\n",
        "    return current_row[n]"
      ]
    }
  ]
}